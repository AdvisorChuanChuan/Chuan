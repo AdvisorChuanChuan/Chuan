{
 "metadata": {
  "language_info": {
   "codemirror_mode": {
    "name": "ipython",
    "version": 3
   },
   "file_extension": ".py",
   "mimetype": "text/x-python",
   "name": "python",
   "nbconvert_exporter": "python",
   "pygments_lexer": "ipython3",
   "version": "3.8.5-final"
  },
  "orig_nbformat": 2,
  "kernelspec": {
   "name": "python3",
   "display_name": "Python 3"
  }
 },
 "nbformat": 4,
 "nbformat_minor": 2,
 "cells": [
  {
   "source": [
    "Librarys:"
   ],
   "cell_type": "markdown",
   "metadata": {}
  },
  {
   "cell_type": "code",
   "execution_count": 6,
   "metadata": {},
   "outputs": [],
   "source": [
    "import numpy as np\n",
    "import pandas as pd\n",
    "import datetime\n",
    "import matplotlib.pyplot as plt\n",
    "# pip3 install tushare\n",
    "import tushare as ts"
   ]
  },
  {
   "source": [
    "df = ts.get_k_data(\"600895\")\n",
    "df"
   ],
   "cell_type": "code",
   "metadata": {},
   "execution_count": 7,
   "outputs": [
    {
     "output_type": "stream",
     "name": "stdout",
     "text": [
      "本接口即将停止更新，请尽快使用Pro版接口：https://waditu.com/document/2\n"
     ]
    },
    {
     "output_type": "execute_result",
     "data": {
      "text/plain": [
       "           date    open   close    high     low    volume    code\n",
       "0    2018-04-04  13.970  13.574  14.010  13.534   83995.0  600895\n",
       "1    2018-04-09  13.534  13.782  13.871  13.475   70048.0  600895\n",
       "2    2018-04-10  13.782  14.060  14.139  13.723  133720.0  600895\n",
       "3    2018-04-11  14.248  13.921  14.416  13.891  150285.0  600895\n",
       "4    2018-04-12  13.822  13.653  13.901  13.633   73403.0  600895\n",
       "..          ...     ...     ...     ...     ...       ...     ...\n",
       "635  2020-11-16  18.390  18.300  18.420  18.130   93303.0  600895\n",
       "636  2020-11-17  18.270  18.060  18.270  17.940  101503.0  600895\n",
       "637  2020-11-18  18.000  18.060  18.150  17.930   72956.0  600895\n",
       "638  2020-11-19  17.950  18.030  18.070  17.840   69590.0  600895\n",
       "639  2020-11-20  18.030  18.160  18.180  17.970   80704.0  600895\n",
       "\n",
       "[640 rows x 7 columns]"
      ],
      "text/html": "<div>\n<style scoped>\n    .dataframe tbody tr th:only-of-type {\n        vertical-align: middle;\n    }\n\n    .dataframe tbody tr th {\n        vertical-align: top;\n    }\n\n    .dataframe thead th {\n        text-align: right;\n    }\n</style>\n<table border=\"1\" class=\"dataframe\">\n  <thead>\n    <tr style=\"text-align: right;\">\n      <th></th>\n      <th>date</th>\n      <th>open</th>\n      <th>close</th>\n      <th>high</th>\n      <th>low</th>\n      <th>volume</th>\n      <th>code</th>\n    </tr>\n  </thead>\n  <tbody>\n    <tr>\n      <th>0</th>\n      <td>2018-04-04</td>\n      <td>13.970</td>\n      <td>13.574</td>\n      <td>14.010</td>\n      <td>13.534</td>\n      <td>83995.0</td>\n      <td>600895</td>\n    </tr>\n    <tr>\n      <th>1</th>\n      <td>2018-04-09</td>\n      <td>13.534</td>\n      <td>13.782</td>\n      <td>13.871</td>\n      <td>13.475</td>\n      <td>70048.0</td>\n      <td>600895</td>\n    </tr>\n    <tr>\n      <th>2</th>\n      <td>2018-04-10</td>\n      <td>13.782</td>\n      <td>14.060</td>\n      <td>14.139</td>\n      <td>13.723</td>\n      <td>133720.0</td>\n      <td>600895</td>\n    </tr>\n    <tr>\n      <th>3</th>\n      <td>2018-04-11</td>\n      <td>14.248</td>\n      <td>13.921</td>\n      <td>14.416</td>\n      <td>13.891</td>\n      <td>150285.0</td>\n      <td>600895</td>\n    </tr>\n    <tr>\n      <th>4</th>\n      <td>2018-04-12</td>\n      <td>13.822</td>\n      <td>13.653</td>\n      <td>13.901</td>\n      <td>13.633</td>\n      <td>73403.0</td>\n      <td>600895</td>\n    </tr>\n    <tr>\n      <th>...</th>\n      <td>...</td>\n      <td>...</td>\n      <td>...</td>\n      <td>...</td>\n      <td>...</td>\n      <td>...</td>\n      <td>...</td>\n    </tr>\n    <tr>\n      <th>635</th>\n      <td>2020-11-16</td>\n      <td>18.390</td>\n      <td>18.300</td>\n      <td>18.420</td>\n      <td>18.130</td>\n      <td>93303.0</td>\n      <td>600895</td>\n    </tr>\n    <tr>\n      <th>636</th>\n      <td>2020-11-17</td>\n      <td>18.270</td>\n      <td>18.060</td>\n      <td>18.270</td>\n      <td>17.940</td>\n      <td>101503.0</td>\n      <td>600895</td>\n    </tr>\n    <tr>\n      <th>637</th>\n      <td>2020-11-18</td>\n      <td>18.000</td>\n      <td>18.060</td>\n      <td>18.150</td>\n      <td>17.930</td>\n      <td>72956.0</td>\n      <td>600895</td>\n    </tr>\n    <tr>\n      <th>638</th>\n      <td>2020-11-19</td>\n      <td>17.950</td>\n      <td>18.030</td>\n      <td>18.070</td>\n      <td>17.840</td>\n      <td>69590.0</td>\n      <td>600895</td>\n    </tr>\n    <tr>\n      <th>639</th>\n      <td>2020-11-20</td>\n      <td>18.030</td>\n      <td>18.160</td>\n      <td>18.180</td>\n      <td>17.970</td>\n      <td>80704.0</td>\n      <td>600895</td>\n    </tr>\n  </tbody>\n</table>\n<p>640 rows × 7 columns</p>\n</div>"
     },
     "metadata": {},
     "execution_count": 7
    }
   ]
  }
 ]
}